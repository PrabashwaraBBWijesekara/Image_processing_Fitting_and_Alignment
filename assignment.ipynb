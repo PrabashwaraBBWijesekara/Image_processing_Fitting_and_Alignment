{
 "cells": [
  {
   "cell_type": "markdown",
   "metadata": {},
   "source": [
    "## Question 1"
   ]
  },
  {
   "cell_type": "code",
   "execution_count": 36,
   "metadata": {},
   "outputs": [
    {
     "ename": "error",
     "evalue": "OpenCV(4.8.0) D:\\a\\opencv-python\\opencv-python\\opencv\\modules\\highgui\\src\\window.cpp:971: error: (-215:Assertion failed) size.width>0 && size.height>0 in function 'cv::imshow'\n",
     "output_type": "error",
     "traceback": [
      "\u001b[1;31m---------------------------------------------------------------------------\u001b[0m",
      "\u001b[1;31merror\u001b[0m                                     Traceback (most recent call last)",
      "\u001b[1;32md:\\semester 5\\assignment 2\\Image_processing_Fitting_and_Alignment\\assignment.ipynb Cell 2\u001b[0m line \u001b[0;36m8\n\u001b[0;32m      <a href='vscode-notebook-cell:/d%3A/semester%205/assignment%202/Image_processing_Fitting_and_Alignment/assignment.ipynb#W0sZmlsZQ%3D%3D?line=4'>5</a>\u001b[0m im \u001b[39m=\u001b[39m cv\u001b[39m.\u001b[39mimread(\u001b[39m'\u001b[39m\u001b[39mthe_berry_farms_sunflower_field.png\u001b[39m\u001b[39m'\u001b[39m,cv\u001b[39m.\u001b[39mIMREAD_REDUCED_COLOR_4)\n\u001b[0;32m      <a href='vscode-notebook-cell:/d%3A/semester%205/assignment%202/Image_processing_Fitting_and_Alignment/assignment.ipynb#W0sZmlsZQ%3D%3D?line=5'>6</a>\u001b[0m \u001b[39m#sample_g = rgb2gray(sample)\u001b[39;00m\n\u001b[0;32m      <a href='vscode-notebook-cell:/d%3A/semester%205/assignment%202/Image_processing_Fitting_and_Alignment/assignment.ipynb#W0sZmlsZQ%3D%3D?line=6'>7</a>\u001b[0m \u001b[39m# fig, ax = plt.subplots(1,2,figsize=(10,5))\u001b[39;00m\n\u001b[1;32m----> <a href='vscode-notebook-cell:/d%3A/semester%205/assignment%202/Image_processing_Fitting_and_Alignment/assignment.ipynb#W0sZmlsZQ%3D%3D?line=7'>8</a>\u001b[0m cv\u001b[39m.\u001b[39;49mimshow(\u001b[39m'\u001b[39;49m\u001b[39mimage\u001b[39;49m\u001b[39m'\u001b[39;49m,im)\n\u001b[0;32m      <a href='vscode-notebook-cell:/d%3A/semester%205/assignment%202/Image_processing_Fitting_and_Alignment/assignment.ipynb#W0sZmlsZQ%3D%3D?line=8'>9</a>\u001b[0m \u001b[39m# ax[1].imshow(sample_g,cmap='gray')\u001b[39;00m\n\u001b[0;32m     <a href='vscode-notebook-cell:/d%3A/semester%205/assignment%202/Image_processing_Fitting_and_Alignment/assignment.ipynb#W0sZmlsZQ%3D%3D?line=9'>10</a>\u001b[0m \u001b[39m# ax[0].set_title('Colored Image',fontsize=15)\u001b[39;00m\n\u001b[0;32m     <a href='vscode-notebook-cell:/d%3A/semester%205/assignment%202/Image_processing_Fitting_and_Alignment/assignment.ipynb#W0sZmlsZQ%3D%3D?line=10'>11</a>\u001b[0m \u001b[39m# ax[1].set_title('Grayscale Image',fontsize=15)\u001b[39;00m\n\u001b[0;32m     <a href='vscode-notebook-cell:/d%3A/semester%205/assignment%202/Image_processing_Fitting_and_Alignment/assignment.ipynb#W0sZmlsZQ%3D%3D?line=11'>12</a>\u001b[0m \u001b[39m#plt.show()\u001b[39;00m\n",
      "\u001b[1;31merror\u001b[0m: OpenCV(4.8.0) D:\\a\\opencv-python\\opencv-python\\opencv\\modules\\highgui\\src\\window.cpp:971: error: (-215:Assertion failed) size.width>0 && size.height>0 in function 'cv::imshow'\n"
     ]
    }
   ],
   "source": [
    "import numpy as np\n",
    "import cv2 as cv\n",
    "import matplotlib.pyplot as plt\n",
    "\n",
    "im = cv.imread('the_berry_farms_sunflower_field.png',cv.IMREAD_REDUCED_COLOR_4)\n",
    "#sample_g = rgb2gray(sample)\n",
    "# fig, ax = plt.subplots(1,2,figsize=(10,5))\n",
    "cv.imshow('image',im)\n",
    "# ax[1].imshow(sample_g,cmap='gray')\n",
    "# ax[0].set_title('Colored Image',fontsize=15)\n",
    "# ax[1].set_title('Grayscale Image',fontsize=15)\n",
    "#plt.show()"
   ]
  },
  {
   "cell_type": "code",
   "execution_count": 35,
   "metadata": {},
   "outputs": [
    {
     "ename": "ModuleNotFoundError",
     "evalue": "No module named 'skimage'",
     "output_type": "error",
     "traceback": [
      "\u001b[1;31m---------------------------------------------------------------------------\u001b[0m",
      "\u001b[1;31mModuleNotFoundError\u001b[0m                       Traceback (most recent call last)",
      "\u001b[1;32md:\\semester 5\\assignment 2\\Image_processing_Fitting_and_Alignment\\assignment.ipynb Cell 3\u001b[0m line \u001b[0;36m1\n\u001b[1;32m----> <a href='vscode-notebook-cell:/d%3A/semester%205/assignment%202/Image_processing_Fitting_and_Alignment/assignment.ipynb#W2sZmlsZQ%3D%3D?line=0'>1</a>\u001b[0m \u001b[39mfrom\u001b[39;00m \u001b[39mskimage\u001b[39;00m\u001b[39m.\u001b[39;00m\u001b[39mfeature\u001b[39;00m \u001b[39mimport\u001b[39;00m blob_dog, blob_log, blob_doh\n",
      "\u001b[1;31mModuleNotFoundError\u001b[0m: No module named 'skimage'"
     ]
    }
   ],
   "source": [
    "from skimage.feature import blob_dog, blob_log, blob_doh"
   ]
  }
 ],
 "metadata": {
  "kernelspec": {
   "display_name": "Python 3",
   "language": "python",
   "name": "python3"
  },
  "language_info": {
   "codemirror_mode": {
    "name": "ipython",
    "version": 3
   },
   "file_extension": ".py",
   "mimetype": "text/x-python",
   "name": "python",
   "nbconvert_exporter": "python",
   "pygments_lexer": "ipython3",
   "version": "3.11.2"
  },
  "orig_nbformat": 4
 },
 "nbformat": 4,
 "nbformat_minor": 2
}
